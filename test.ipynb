{
 "cells": [
  {
   "cell_type": "code",
   "execution_count": 4,
   "metadata": {},
   "outputs": [],
   "source": [
    "import datetime\n",
    "import mysql.connector\n",
    "from parse_config import parse_config_file"
   ]
  },
  {
   "cell_type": "code",
   "execution_count": 2,
   "metadata": {},
   "outputs": [
    {
     "name": "stdout",
     "output_type": "stream",
     "text": [
      "Connection established\n",
      "Tables created successfully\n",
      "Data inserted\n",
      "Data inserted\n",
      "Connection closed\n"
     ]
    }
   ],
   "source": [
    "from parse_config import parse_config_file\n",
    "import mysql.connector\n",
    "\n",
    "class Database:\n",
    "\n",
    "    def __init__(self, config_file_path):\n",
    "        self.server, self.username, self.password, self.database = parse_config_file(config_file_path)\n",
    "\n",
    "        self.connection = mysql.connector.connect(\n",
    "            host=self.server,\n",
    "            user=self.username,\n",
    "            password=self.password,\n",
    "            database=self.database\n",
    "        )\n",
    "        if self.connection:\n",
    "            print(\"Connection established\")\n",
    "        self.cursor = self.connection.cursor()\n",
    "\n",
    "    def create_tables(self):\n",
    "        create_table_query_0 = \"\"\"\n",
    "            CREATE TABLE IF NOT EXISTS Attendance(\n",
    "                user_id SMALLINT NOT NULL,\n",
    "                attendance_id SMALLINT PRIMARY KEY NOT NULL,\n",
    "                role VARCHAR(10) NOT NULL,\n",
    "                date DATE NOT NULL,\n",
    "                attendance BOOLEAN NULL,\n",
    "                in_time TIME NULL,\n",
    "                entry_exit VARCHAR(2500) NULL\n",
    "            )\n",
    "        \"\"\"\n",
    "        create_table_query_1 = \"\"\"\n",
    "            CREATE TABLE IF NOT EXISTS Students(\n",
    "                user_id SMALLINT PRIMARY KEY NOT NULL,\n",
    "                student_id mediumint not null,\n",
    "                university_code varchar(100) not null,\n",
    "                first_name  varchar(50) not null,\n",
    "                middle_name varchar(50) null,\n",
    "                last_name varchar(50) not null,\n",
    "                encoding_left text not null,\n",
    "                enecoding_front text not null,\n",
    "                encoding_right text not null\n",
    "            )\n",
    "        \"\"\"\n",
    "        create_table_query_2 = \"\"\"\n",
    "            CREATE TABLE IF NOT EXISTS Staffs(\n",
    "                user_id SMALLINT PRIMARY KEY NOT NULL,\n",
    "                staff_id mediumint not null,\n",
    "                first_name  varchar(50) not null,\n",
    "                middle_name varchar(50) null,\n",
    "                last_name varchar(50) not null,\n",
    "                encoding_left text not null,\n",
    "                enecoding_front text not null,\n",
    "                encoding_right text not null\n",
    "            )\n",
    "        \"\"\"\n",
    "        self.cursor.execute(create_table_query_0)\n",
    "        self.cursor.execute(create_table_query_1)\n",
    "        self.cursor.execute(create_table_query_2)\n",
    "        self.connection.commit()\n",
    "        print(f\"Tables created successfully\")\n",
    "\n",
    "\n",
    "    def add_single_data(self,data: any,table_name:str,column_name:str):\n",
    "        query=f\"insert into {table_name} ({column_name}) values (%s) on duplicate key update {column_name} = values({column_name})\"\n",
    "        self.cursor.execute(query,data)\n",
    "        self.connection.commit()\n",
    "        print(\"Data inserted\")\n",
    "\n",
    "    def close_connection(self):\n",
    "        self.cursor.close()\n",
    "        self.connection.close()\n",
    "        print(\"Connection closed\")\n",
    "\n",
    "user = Database(\"config.json\")\n",
    "user.create_tables()\n",
    "user.add_single_data((False,),\"Attendance\",\"attendance\")\n",
    "user.add_single_data((4567,),\"Staffs\",\"staff_id\")\n",
    "\n",
    "user.close_connection()\n"
   ]
  },
  {
   "cell_type": "code",
   "execution_count": null,
   "metadata": {},
   "outputs": [],
   "source": [
    "import mysql.connector\n",
    "\n",
    "mydb = mysql.connector.connect(\n",
    "    host=\"65.109.153.186\",\n",
    "    user=\"\"\n",
    ")"
   ]
  }
 ],
 "metadata": {
  "kernelspec": {
   "display_name": "Python 3",
   "language": "python",
   "name": "python3"
  },
  "language_info": {
   "codemirror_mode": {
    "name": "ipython",
    "version": 3
   },
   "file_extension": ".py",
   "mimetype": "text/x-python",
   "name": "python",
   "nbconvert_exporter": "python",
   "pygments_lexer": "ipython3",
   "version": "3.9.11"
  }
 },
 "nbformat": 4,
 "nbformat_minor": 2
}
